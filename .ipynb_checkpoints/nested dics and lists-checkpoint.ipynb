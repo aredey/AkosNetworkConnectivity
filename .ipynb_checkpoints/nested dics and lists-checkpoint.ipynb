{
 "cells": [
  {
   "cell_type": "markdown",
   "metadata": {},
   "source": [
    "**Akos' Network Connections**"
   ]
  },
  {
   "cell_type": "code",
   "execution_count": 34,
   "metadata": {},
   "outputs": [
    {
     "name": "stdout",
     "output_type": "stream",
     "text": [
      "[{'brand': 'Ford', 'model': 'Mustang', 'year': 1964},\n",
      " {'color': 'red', 'key': 'value'}]\n"
     ]
    }
   ],
   "source": [
    "import pprint\n",
    "\n",
    "thisdict =\t{\n",
    "  \"brand\": \"Ford\",\n",
    "  \"model\": \"Mustang\",\n",
    "  \"year\": 1964\n",
    "}\n",
    "\n",
    "thatdict = {\"key\" : \"value\"}\n",
    "thatdict[\"color\"] = \"red\"\n",
    "\n",
    "thislist = []\n",
    "thislist.append(thisdict)\n",
    "thislist.append(thatdict)\n",
    "\n",
    "pprint.pprint(list)"
   ]
  },
  {
   "cell_type": "code",
   "execution_count": 33,
   "metadata": {},
   "outputs": [
    {
     "data": {
      "text/plain": [
       "list"
      ]
     },
     "execution_count": 33,
     "metadata": {},
     "output_type": "execute_result"
    }
   ],
   "source": [
    "type(list)"
   ]
  },
  {
   "cell_type": "code",
   "execution_count": 40,
   "metadata": {},
   "outputs": [
    {
     "name": "stdout",
     "output_type": "stream",
     "text": [
      "[{'brand': 'Ford', 'model': 'Mustang', 'year': 1964},\n",
      " {'color': 'red', 'key': 'value'}]\n"
     ]
    }
   ],
   "source": [
    "import pprint\n",
    "\n",
    "thisdict =\t{\n",
    "  \"brand\": \"Ford\",\n",
    "  \"model\": \"Mustang\",\n",
    "  \"year\": 1964\n",
    "}\n",
    "\n",
    "thatdict = {\"key\" : \"value\"}\n",
    "thatdict[\"color\"] = \"red\"\n",
    "\n",
    "thislist = []\n",
    "thislist.append(thisdict)\n",
    "thislist.append(thatdict)\n",
    "\n",
    "pprint.pprint(thislist)"
   ]
  },
  {
   "cell_type": "code",
   "execution_count": 41,
   "metadata": {},
   "outputs": [
    {
     "name": "stdout",
     "output_type": "stream",
     "text": [
      "{'brand': 'Ford', 'model': 'Mustang', 'year': 1964}\n",
      "{'color': 'red', 'key': 'value'}\n"
     ]
    }
   ],
   "source": [
    "for i in thislist:\n",
    "    pprint.pprint(i)"
   ]
  },
  {
   "cell_type": "code",
   "execution_count": null,
   "metadata": {},
   "outputs": [],
   "source": []
  }
 ],
 "metadata": {
  "kernelspec": {
   "display_name": "Python 3",
   "language": "python",
   "name": "python3"
  },
  "language_info": {
   "codemirror_mode": {
    "name": "ipython",
    "version": 3
   },
   "file_extension": ".py",
   "mimetype": "text/x-python",
   "name": "python",
   "nbconvert_exporter": "python",
   "pygments_lexer": "ipython3",
   "version": "3.6.9"
  }
 },
 "nbformat": 4,
 "nbformat_minor": 4
}
