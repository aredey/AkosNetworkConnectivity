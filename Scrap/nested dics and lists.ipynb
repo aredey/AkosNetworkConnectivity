{
 "cells": [
  {
   "cell_type": "markdown",
   "metadata": {},
   "source": [
    "**Akos' Network Connections**\n",
    "\n",
    "inspired by https://www.youtube.com/watch?v=oQfNYqz8pLs"
   ]
  },
  {
   "cell_type": "code",
   "execution_count": 11,
   "metadata": {},
   "outputs": [
    {
     "name": "stdout",
     "output_type": "stream",
     "text": [
      "[{'brand': 'Ford', 'model': 'Mustang', 'year': 1964},\n",
      " {'color': 'red', 'key': 'value'}]\n"
     ]
    }
   ],
   "source": [
    "import pprint\n",
    "\n",
    "thisdict =\t{\n",
    "  \"brand\": \"Ford\",\n",
    "  \"model\": \"Mustang\",\n",
    "  \"year\": 1964\n",
    "}\n",
    "\n",
    "thatdict = {\"key\" : \"value\"}\n",
    "thatdict[\"color\"] = \"red\"\n",
    "\n",
    "thislist = []\n",
    "thislist.append(thisdict)\n",
    "thislist.append(thatdict)\n",
    "\n",
    "pprint.pprint(thislist)"
   ]
  },
  {
   "cell_type": "code",
   "execution_count": 12,
   "metadata": {},
   "outputs": [
    {
     "data": {
      "text/plain": [
       "list"
      ]
     },
     "execution_count": 12,
     "metadata": {},
     "output_type": "execute_result"
    }
   ],
   "source": [
    "type(thislist)"
   ]
  },
  {
   "cell_type": "code",
   "execution_count": 13,
   "metadata": {},
   "outputs": [
    {
     "name": "stdout",
     "output_type": "stream",
     "text": [
      "[{'brand': 'Ford', 'model': 'Mustang', 'year': 1964},\n",
      " {'color': 'red', 'key': 'value'}]\n"
     ]
    }
   ],
   "source": [
    "import pprint\n",
    "\n",
    "thisdict =\t{\n",
    "  \"brand\": \"Ford\",\n",
    "  \"model\": \"Mustang\",\n",
    "  \"year\": 1964\n",
    "}\n",
    "\n",
    "thatdict = {\"key\" : \"value\"}\n",
    "thatdict[\"color\"] = \"red\"\n",
    "\n",
    "thislist = []\n",
    "thislist.append(thisdict)\n",
    "thislist.append(thatdict)\n",
    "\n",
    "pprint.pprint(thislist)"
   ]
  },
  {
   "cell_type": "code",
   "execution_count": 14,
   "metadata": {},
   "outputs": [
    {
     "name": "stdout",
     "output_type": "stream",
     "text": [
      "{'brand': 'Ford', 'model': 'Mustang', 'year': 1964}\n",
      "{'color': 'red', 'key': 'value'}\n"
     ]
    }
   ],
   "source": [
    "for i in thislist:\n",
    "    pprint.pprint(i)"
   ]
  },
  {
   "cell_type": "code",
   "execution_count": 18,
   "metadata": {},
   "outputs": [
    {
     "name": "stdout",
     "output_type": "stream",
     "text": [
      "Mustang\n"
     ]
    }
   ],
   "source": [
    "print(thislist[0]['model'])"
   ]
  },
  {
   "cell_type": "markdown",
   "metadata": {},
   "source": [
    "# New nested dict:"
   ]
  },
  {
   "cell_type": "code",
   "execution_count": 1,
   "metadata": {},
   "outputs": [],
   "source": [
    "gateways = {'Fw-1': {'bond1.234': {'domain': 'CDN', 'ipv4': '10.0.0.1', 'preflen': '16'},\n",
    "          'eth1': {'domain': 'Int', 'ipv4': '100.100.100.1', 'preflen': '24'},\n",
    "          'eth2': {'domain': 'DMZ', 'ipv4': '10.8.1.1', 'preflen': '24'}},\n",
    " 'Fw-2': {'bond1.234': {'domain': 'CDN', 'ipv4': '10.0.0.2', 'preflen': '16'},\n",
    "          'eth1': {'domain': 'Int', 'ipv4': '100.100.100.2', 'preflen': '24'},\n",
    "          'eth2': {'domain': 'DMZ', 'ipv4': '10.8.1.2', 'preflen': '24'},\n",
    "          'eth3': {'domain': 'EDN', 'ipv4': '10.8.2.2', 'preflen': '24'}},\n",
    " 'Fw-3': {'eth2': {'domain': 'CDN', 'ipv4': '10.0.0.3', 'preflen': '16'},\n",
    "          'eth3': {'domain': 'ADN', 'ipv4': '10.8.3.3', 'preflen': '24'}},\n",
    " 'Fw-4': {'eth1': {'domain': 'FDN', 'ipv4': '10.1.1.4', 'preflen': '24'},\n",
    "          'eth2': {'domain': 'CDN', 'ipv4': '10.0.0.4', 'preflen': '16'},\n",
    "          'eth3': {'domain': 'EDN', 'ipv4': '10.8.2.4', 'preflen': '24'}}}\n"
   ]
  },
  {
   "cell_type": "code",
   "execution_count": 2,
   "metadata": {},
   "outputs": [
    {
     "name": "stdout",
     "output_type": "stream",
     "text": [
      "{'Fw-1': {'bond1.234': {'domain': 'CDN', 'ipv4': '10.0.0.1', 'preflen': '16'},\n",
      "          'eth1': {'domain': 'Int', 'ipv4': '100.100.100.1', 'preflen': '24'},\n",
      "          'eth2': {'domain': 'DMZ', 'ipv4': '10.8.1.1', 'preflen': '24'}},\n",
      " 'Fw-2': {'bond1.234': {'domain': 'CDN', 'ipv4': '10.0.0.2', 'preflen': '16'},\n",
      "          'eth1': {'domain': 'Int', 'ipv4': '100.100.100.2', 'preflen': '24'},\n",
      "          'eth2': {'domain': 'DMZ', 'ipv4': '10.8.1.2', 'preflen': '24'},\n",
      "          'eth3': {'domain': 'EDN', 'ipv4': '10.8.2.2', 'preflen': '24'}},\n",
      " 'Fw-3': {'eth2': {'domain': 'CDN', 'ipv4': '10.0.0.3', 'preflen': '16'},\n",
      "          'eth3': {'domain': 'ADN', 'ipv4': '10.8.3.3', 'preflen': '24'}},\n",
      " 'Fw-4': {'eth1': {'domain': 'FDN', 'ipv4': '10.1.1.4', 'preflen': '24'},\n",
      "          'eth2': {'domain': 'CDN', 'ipv4': '10.0.0.4', 'preflen': '16'},\n",
      "          'eth3': {'domain': 'EDN', 'ipv4': '10.8.2.4', 'preflen': '24'}}}\n"
     ]
    }
   ],
   "source": [
    "import pprint\n",
    "pprint.pprint(gateways)"
   ]
  },
  {
   "cell_type": "code",
   "execution_count": 15,
   "metadata": {},
   "outputs": [
    {
     "name": "stdout",
     "output_type": "stream",
     "text": [
      "Fw-1  ->  DMZ\n",
      "Fw-2  ->  DMZ\n",
      "Fw-3  ->  CDN\n",
      "Fw-4  ->  CDN\n"
     ]
    }
   ],
   "source": [
    " for x in gateways:\n",
    "  print(x,\" -> \", gateways[x]['eth2']['domain'])"
   ]
  },
  {
   "cell_type": "code",
   "execution_count": null,
   "metadata": {},
   "outputs": [],
   "source": []
  }
 ],
 "metadata": {
  "kernelspec": {
   "display_name": "Python 3",
   "language": "python",
   "name": "python3"
  },
  "language_info": {
   "codemirror_mode": {
    "name": "ipython",
    "version": 3
   },
   "file_extension": ".py",
   "mimetype": "text/x-python",
   "name": "python",
   "nbconvert_exporter": "python",
   "pygments_lexer": "ipython3",
   "version": "3.6.9"
  }
 },
 "nbformat": 4,
 "nbformat_minor": 4
}
